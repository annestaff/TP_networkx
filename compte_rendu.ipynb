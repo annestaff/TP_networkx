{
 "cells": [
  {
   "cell_type": "markdown",
   "id": "dc629f4d29a9cdbc",
   "metadata": {
    "collapsed": false,
    "jupyter": {
     "outputs_hidden": false
    }
   },
   "source": [
    "# TP : Random walk with restart on networks using NetworkX"
   ]
  },
  {
   "cell_type": "code",
   "execution_count": 2,
   "id": "initial_id",
   "metadata": {
    "ExecuteTime": {
     "end_time": "2023-09-17T13:38:40.043751800Z",
     "start_time": "2023-09-17T13:38:39.277278800Z"
    },
    "collapsed": true,
    "jupyter": {
     "outputs_hidden": true
    }
   },
   "outputs": [],
   "source": [
    "import networkx as nx\n",
    "import csv\n",
    "import os\n",
    "\n",
    "\n",
    "def rwr(network_file, weights_file):\n",
    "    g = nx.Graph()\n",
    "\n",
    "    with open(network_file, \"r\") as f:\n",
    "        csv_reader = csv.reader(f,delimiter=\"\\t\")\n",
    "        for row in csv_reader:\n",
    "            g.add_edge(row[0], row[1])\n",
    "\n",
    "    weight_dict = {}\n",
    "\n",
    "    with open(weights_file, \"r\") as f:\n",
    "        csv_reader = csv.reader(f, delimiter=\"\\t\")\n",
    "        for name, weight in csv_reader:\n",
    "            weight_dict[name] = float(weight)\n",
    "\n",
    "    pagerank_results = nx.pagerank(g, personalization=weight_dict, alpha=0.9)\n",
    "    \n",
    "    return pagerank_results\n",
    "\n",
    "\n",
    "if __name__ == \"__main__\":\n",
    "    rwrd = \".\"\n",
    "    network_file = os.path.join(rwrd, \"data\\\\PPI_HiUnion_LitBM_APID_gene_names_190123.tsv\")\n",
    "    weights_file = os.path.join(rwrd, \"data\\\\tAML_P3_SNV_polyphen_15390_nodes.tsv\")\n",
    "    # I don't use the output file as it is not recommended in jupyter notebooks.\n",
    "    res = rwr(network_file, weights_file)\n"
   ]
  },
  {
   "cell_type": "markdown",
   "id": "f2e81aac6a2c83fc",
   "metadata": {
    "collapsed": false,
    "jupyter": {
     "outputs_hidden": false
    }
   },
   "source": [
    "*Use cases of the RWR or Personalised PageRank:*\n",
    "Outside of the scientific area, these algorithms are commonly used in social networks to recommend new friends to users, or in e-commerce and streaming services in order to recommend products based on a user's previous purchases and browsing history."
   ]
  },
  {
   "cell_type": "markdown",
   "id": "400ed672e0017ca4",
   "metadata": {
    "collapsed": false,
    "jupyter": {
     "outputs_hidden": false
    }
   },
   "source": [
    "*Uses of the techniques in computational biology:*\n",
    "They are used in the scientific and clinical areas to predict drug-drug combinations as well as drug-target interactions. They can also be applied to gene regulatory network inference. In the specific context of Protein-Protein interaction networks, they are used to predict protein complexes."
   ]
  },
  {
   "cell_type": "markdown",
   "id": "9a4d4f3e1684c17b",
   "metadata": {
    "collapsed": false,
    "jupyter": {
     "outputs_hidden": false
    }
   },
   "source": [
    "*SNV data:*\n",
    "= single nucleotide variance data, referring to a DNA sequence alteration of one single nucleotide. "
   ]
  },
  {
   "cell_type": "markdown",
   "id": "95c9b58df5973fd8",
   "metadata": {
    "collapsed": false,
    "jupyter": {
     "outputs_hidden": false
    }
   },
   "source": [
    "*Polyphen score:*\n",
    "It represents the probability that an aminoacid substitution is damaging to the organism. Some aminoacids have similar chemical properties or are located in a part of the protein where the substition goes \"unnoticed\". If a substitution (due to DNA sequence alteration) happens between aminoacids that have very different chemical properties or are crucial to the funcioning of the protein, it can create a lot of damage. Although in many cases, there are mechanisms to detect wrong proteins and delete them before they can actually harm the organism.\n",
    "The score ranges from 0 to 1, where 0 means the substitution can be tolerated and 1 means it is harmful."
   ]
  },
  {
   "cell_type": "markdown",
   "id": "9a5dbb8ff29eca8d",
   "metadata": {
    "collapsed": false,
    "jupyter": {
     "outputs_hidden": false
    }
   },
   "source": [
    "*Damping factor alpha:*\n",
    "It defines the probability of the random walk restarting from the/a core node at each step of the alhorithm. It is, again, a value between 0 and 1. A high alpha value can be useful to focus on one or multiple specific nodes of the graph, as it increases the probability for the walk to restart back from there. on the other hand, a low alpha value allows to explore the network very broadly and not get stuck in one and the same area."
   ]
  },
  {
   "cell_type": "markdown",
   "id": "168b2bae3177e7db",
   "metadata": {
    "collapsed": false,
    "jupyter": {
     "outputs_hidden": false
    }
   },
   "source": [
    "*Ten most interesting proteins ranked in order:*"
   ]
  },
  {
   "cell_type": "code",
   "execution_count": 9,
   "id": "543a621f358dcd96",
   "metadata": {
    "ExecuteTime": {
     "end_time": "2023-09-17T13:44:27.677266200Z",
     "start_time": "2023-09-17T13:44:27.614843100Z"
    },
    "collapsed": false,
    "jupyter": {
     "outputs_hidden": false
    }
   },
   "outputs": [
    {
     "name": "stdout",
     "output_type": "stream",
     "text": [
      "('NTN1', 0.004471455725879966)\n",
      "('SDCBP', 0.0034897788409275635)\n",
      "('APP', 0.003487723047085233)\n",
      "('OPRL1', 0.0034851871389207706)\n",
      "('RHOD', 0.0033874984940111237)\n",
      "('MEOX2', 0.003337762250098252)\n",
      "('TTN', 0.0032002033356381384)\n",
      "('EXOC1', 0.0031301135552706783)\n",
      "('PPP3CA', 0.0030979654554612267)\n",
      "('NSD2', 0.002991751661900752)\n"
     ]
    }
   ],
   "source": [
    "for i in sorted(res.items(), key=lambda item: item[1], reverse=True)[:10]:\n",
    "    print(i)"
   ]
  }
 ],
 "metadata": {
  "kernelspec": {
   "display_name": "Python 3 (ipykernel)",
   "language": "python",
   "name": "python3"
  },
  "language_info": {
   "codemirror_mode": {
    "name": "ipython",
    "version": 3
   },
   "file_extension": ".py",
   "mimetype": "text/x-python",
   "name": "python",
   "nbconvert_exporter": "python",
   "pygments_lexer": "ipython3",
   "version": "3.9.13"
  }
 },
 "nbformat": 4,
 "nbformat_minor": 5
}
